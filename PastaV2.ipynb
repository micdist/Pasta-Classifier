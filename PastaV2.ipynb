{
  "nbformat": 4,
  "nbformat_minor": 0,
  "metadata": {
    "colab": {
      "provenance": [],
      "toc_visible": true
    },
    "kernelspec": {
      "name": "python3",
      "display_name": "Python 3"
    },
    "language_info": {
      "name": "python"
    }
  },
  "cells": [
    {
      "cell_type": "code",
      "source": [
        "!pip install --quiet https://gradio-builds.s3.amazonaws.com/13ace035ed58f14f8f5ce584d94b81c56f83b5d4/gradio-4.7.1-py3-none-any.whl"
      ],
      "metadata": {
        "id": "jlaMrzWj-k8T"
      },
      "execution_count": null,
      "outputs": []
    },
    {
      "cell_type": "code",
      "source": [
        "from fastai.vision.all import *\n",
        "import gradio as gr"
      ],
      "metadata": {
        "id": "gTMhZ9GQ2Rzs"
      },
      "execution_count": 1,
      "outputs": []
    },
    {
      "cell_type": "code",
      "source": [
        "path = Path()\n",
        "learn = load_learner(path/'bestPastaYet.pkl')"
      ],
      "metadata": {
        "id": "ZSPlKqGaCo3n"
      },
      "execution_count": 2,
      "outputs": []
    },
    {
      "cell_type": "code",
      "source": [
        "labels = learn.dls.vocab\n",
        "def predict(img):\n",
        "    img = PILImage.create(img)\n",
        "    pred,pred_idx,probs = learn.predict(img)\n",
        "    return {labels[i]: float(probs[i]) for i in range(len(labels))}"
      ],
      "metadata": {
        "id": "isU7EB5kDuzJ"
      },
      "execution_count": 3,
      "outputs": []
    },
    {
      "cell_type": "code",
      "source": [
        "gr.Interface(fn=predict, inputs=\"image\", outputs=gr.Label()).launch()"
      ],
      "metadata": {
        "colab": {
          "base_uri": "https://localhost:8080/",
          "height": 646
        },
        "id": "UAgx47wlvcML",
        "outputId": "9245c1cd-5260-471a-b23a-00de74870996"
      },
      "execution_count": 4,
      "outputs": []
    }
  ]
}
