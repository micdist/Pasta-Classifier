{
  "nbformat": 4,
  "nbformat_minor": 0,
  "metadata": {
    "colab": {
      "provenance": []
    },
    "kernelspec": {
      "name": "python3",
      "display_name": "Python 3"
    },
    "language_info": {
      "name": "python"
    }
  },
  "cells": [
    {
      "cell_type": "code",
      "source": [
        "!pip install --quiet https://gradio-builds.s3.amazonaws.com/13ace035ed58f14f8f5ce584d94b81c56f83b5d4/gradio-4.7.1-py3-none-any.whl"
      ],
      "metadata": {
        "id": "jlaMrzWj-k8T"
      },
      "execution_count": null,
      "outputs": []
    },
    {
      "cell_type": "code",
      "source": [
        "from fastai.vision.all import *\n",
        "import gradio as gr"
      ],
      "metadata": {
        "id": "gTMhZ9GQ2Rzs"
      },
      "execution_count": 7,
      "outputs": []
    },
    {
      "cell_type": "markdown",
      "metadata": {
        "id": "J8IiDBjw3UGC"
      },
      "source": [
        "## **Pasta length classifier**\n",
        "\n",
        "<br>Were you missing a tool that matched your need for classification with your love for pasta?<br><br>\n",
        "This humble, ML powered (`ResNet-18`, `fastAI`) and useless app aims to help with that,<br> telling if you are dealing with short pasta or long pasta.<br><br>\n",
        "Whether you are just courious or want to navigate italian dishes by the size of our favourite carbs, give this thing a try.<br><br>\n",
        "####** **Caveat Emptor** **<br>\n",
        "`This may classify your pup as \"corta\" or \"lunga\" `.<br>\n",
        "Pasta may contain gluten.<br>\n",
        "Composition of pasta is not relevant.<br>\n",
        "Should work with both cooked and raw pasta (packed or not).<br>\n",
        "Results may vary.<br>\n",
        "Results may be inconsistent or incorrect.<br>\n",
        "In case of inconsistent or incorrect results relax and measure the pasta yourself,  this app is just an exercise for the brilliant FastAi course."
      ]
    },
    {
      "cell_type": "code",
      "source": [
        "path = Path()\n",
        "learn = load_learner(path/'bestPastaYet.pkl')"
      ],
      "metadata": {
        "id": "ZSPlKqGaCo3n"
      },
      "execution_count": 2,
      "outputs": []
    },
    {
      "cell_type": "code",
      "source": [
        "labels = learn.dls.vocab\n",
        "def predict(img):\n",
        "    img = PILImage.create(img)\n",
        "    pred,pred_idx,probs = learn.predict(img)\n",
        "    return {labels[i]: float(probs[i]) for i in range(len(labels))}"
      ],
      "metadata": {
        "id": "isU7EB5kDuzJ"
      },
      "execution_count": 4,
      "outputs": []
    },
    {
      "cell_type": "code",
      "source": [
        "gr.Interface(fn=predict, inputs=\"image\", outputs=gr.Label()).launch()"
      ],
      "metadata": {
        "id": "UAgx47wlvcML"
      },
      "execution_count": null,
      "outputs": []
    }
  ]
}